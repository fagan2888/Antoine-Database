{
 "cells": [
  {
   "cell_type": "markdown",
   "metadata": {},
   "source": [
    "###### The latest version of this IPython notebook is available at [http://github.com/jckantor](http://github.com/jckantor)  for noncommercial use under terms of the [Creative Commons Attribution Noncommericial ShareAlike License](http://creativecommons.org/licenses/by-nc-sa/4.0/).\n",
    "\n",
    "Jeffrey C. Kantor (Kantor.1@nd.edu)\n",
    "\n",
    "# Antoine's Equation and Database\n",
    "\n",
    "The purpose of this notebook is to demonstrate the use Antoine's equation for routine chemical calcualtions. The notebook uses Google Sheets as a data repository of coefficients for Antoine parameters for a selected set of chemical species.\n",
    "\n",
    "#### Table of Contents\n",
    "\n",
    "* [Introduction to Antoine's Equation](#Introduction-to-Antoine's-Equation)\n",
    "* [Calculating Saturation Pressure](#Calculating-Saturation-Pressure)\n",
    "* [Plotting Saturation Pressure](#Plotting-Saturation-Pressure)\n",
    "* [Calculating Saturation Temperature](#Calculating-Saturation-Temperature)\n",
    "* [Specific Humidity](#Specific-Humidity)\n",
    "\n",
    "#### How to Run this Notebook\n",
    "\n",
    "You can open run this notebook directly by clicking on \n",
    "\n",
    "[![Binder](http://mybinder.org/badge.svg)](http://mybinder.org/repo/jckantor/Antoine-Database)\n",
    "\n",
    "then selecting `Run All` under the Jupyter `Cell` menu. Alternatively, if you have access to a Jupyter development environment (such as [Anaconda](https://www.continuum.io/downloads)), you can download this notebook using `Download as ...` under the Jupyter `File` menu, or fork the entire project from the [github repository](https://github.com/jckantor/Antoine-Database)."
   ]
  },
  {
   "cell_type": "markdown",
   "metadata": {},
   "source": [
    "## Introduction to Antoine's Equation"
   ]
  },
  {
   "cell_type": "code",
   "execution_count": 91,
   "metadata": {
    "collapsed": false
   },
   "outputs": [
    {
     "data": {
      "text/html": [
       "\n",
       "        <iframe\n",
       "            width=\"400\"\n",
       "            height=\"300\"\n",
       "            src=\"https://www.youtube.com/embed/VuiTiNP7QsU\"\n",
       "            frameborder=\"0\"\n",
       "            allowfullscreen\n",
       "        ></iframe>\n",
       "        "
      ],
      "text/plain": [
       "<IPython.lib.display.YouTubeVideo at 0x10bca8410>"
      ]
     },
     "execution_count": 91,
     "metadata": {},
     "output_type": "execute_result"
    }
   ],
   "source": [
    "from IPython.display import YouTubeVideo\n",
    "YouTubeVideo('VuiTiNP7QsU') "
   ]
  },
  {
   "cell_type": "markdown",
   "metadata": {},
   "source": [
    "Antoine's equation is used to estimate the pressure of the vapor phase of a pure component in equilibrium its pure liquid phase as a function of temperature. The form of the equation is\n",
    "\n",
    "$$\\log_{10} P^{sat}(T) = A - \\frac{B}{T+C}$$\n",
    "\n",
    "where $A$, $B$, and $C$ are constants specific to the species of interest. A data set of coefficients been prepared as a [Google Sheet](https://docs.google.com/spreadsheets/d/1lqIWdnmjiZX2LwHZ_5TdPXDOEn8hp-ZkdONlbjA-P1k/edit?usp=sharing) and read in the notebook by running the following cell."
   ]
  },
  {
   "cell_type": "code",
   "execution_count": 84,
   "metadata": {
    "collapsed": false
   },
   "outputs": [
    {
     "data": {
      "text/html": [
       "<div>\n",
       "<table border=\"1\" class=\"dataframe\">\n",
       "  <thead>\n",
       "    <tr style=\"text-align: right;\">\n",
       "      <th></th>\n",
       "      <th></th>\n",
       "      <th></th>\n",
       "      <th>A</th>\n",
       "      <th>B</th>\n",
       "      <th>C</th>\n",
       "    </tr>\n",
       "    <tr>\n",
       "      <th>Species</th>\n",
       "      <th>Tmin</th>\n",
       "      <th>Tmax</th>\n",
       "      <th></th>\n",
       "      <th></th>\n",
       "      <th></th>\n",
       "    </tr>\n",
       "  </thead>\n",
       "  <tbody>\n",
       "    <tr>\n",
       "      <th>acetaldehyde</th>\n",
       "      <th>-45.0</th>\n",
       "      <th>70</th>\n",
       "      <td>8.00550</td>\n",
       "      <td>1600.000</td>\n",
       "      <td>291.800</td>\n",
       "    </tr>\n",
       "    <tr>\n",
       "      <th>acetic acid</th>\n",
       "      <th>16.7</th>\n",
       "      <th>320</th>\n",
       "      <td>7.38782</td>\n",
       "      <td>1533.313</td>\n",
       "      <td>222.309</td>\n",
       "    </tr>\n",
       "    <tr>\n",
       "      <th>acetone</th>\n",
       "      <th>-94.3</th>\n",
       "      <th>235</th>\n",
       "      <td>7.02447</td>\n",
       "      <td>1161.000</td>\n",
       "      <td>224.000</td>\n",
       "    </tr>\n",
       "    <tr>\n",
       "      <th>benzene</th>\n",
       "      <th>8.0</th>\n",
       "      <th>103</th>\n",
       "      <td>6.90565</td>\n",
       "      <td>1211.033</td>\n",
       "      <td>220.790</td>\n",
       "    </tr>\n",
       "    <tr>\n",
       "      <th>ethanol</th>\n",
       "      <th>-2.0</th>\n",
       "      <th>100</th>\n",
       "      <td>8.04494</td>\n",
       "      <td>1554.300</td>\n",
       "      <td>222.650</td>\n",
       "    </tr>\n",
       "    <tr>\n",
       "      <th rowspan=\"2\" valign=\"top\">methanol</th>\n",
       "      <th>-14.0</th>\n",
       "      <th>65</th>\n",
       "      <td>7.89750</td>\n",
       "      <td>1474.080</td>\n",
       "      <td>229.130</td>\n",
       "    </tr>\n",
       "    <tr>\n",
       "      <th>65.0</th>\n",
       "      <th>110</th>\n",
       "      <td>7.97328</td>\n",
       "      <td>1515.140</td>\n",
       "      <td>232.850</td>\n",
       "    </tr>\n",
       "    <tr>\n",
       "      <th>toluene</th>\n",
       "      <th>6.0</th>\n",
       "      <th>137</th>\n",
       "      <td>6.95464</td>\n",
       "      <td>1344.800</td>\n",
       "      <td>218.480</td>\n",
       "    </tr>\n",
       "    <tr>\n",
       "      <th rowspan=\"2\" valign=\"top\">water</th>\n",
       "      <th>0.0</th>\n",
       "      <th>60</th>\n",
       "      <td>8.10765</td>\n",
       "      <td>1750.286</td>\n",
       "      <td>235.000</td>\n",
       "    </tr>\n",
       "    <tr>\n",
       "      <th>60.0</th>\n",
       "      <th>150</th>\n",
       "      <td>7.96681</td>\n",
       "      <td>1668.210</td>\n",
       "      <td>228.000</td>\n",
       "    </tr>\n",
       "  </tbody>\n",
       "</table>\n",
       "</div>"
      ],
      "text/plain": [
       "                               A         B        C\n",
       "Species      Tmin  Tmax                            \n",
       "acetaldehyde -45.0 70    8.00550  1600.000  291.800\n",
       "acetic acid   16.7 320   7.38782  1533.313  222.309\n",
       "acetone      -94.3 235   7.02447  1161.000  224.000\n",
       "benzene       8.0  103   6.90565  1211.033  220.790\n",
       "ethanol      -2.0  100   8.04494  1554.300  222.650\n",
       "methanol     -14.0 65    7.89750  1474.080  229.130\n",
       "              65.0 110   7.97328  1515.140  232.850\n",
       "toluene       6.0  137   6.95464  1344.800  218.480\n",
       "water         0.0  60    8.10765  1750.286  235.000\n",
       "              60.0 150   7.96681  1668.210  228.000"
      ]
     },
     "execution_count": 84,
     "metadata": {},
     "output_type": "execute_result"
    }
   ],
   "source": [
    "import requests\n",
    "from StringIO import StringIO\n",
    "import pandas as pd\n",
    "\n",
    "r = requests.get('https://docs.google.com/spreadsheets/d/' \\\n",
    "                 + '1lqIWdnmjiZX2LwHZ_5TdPXDOEn8hp-ZkdONlbjA-P1k' \\\n",
    "                 + '/export?format=csv&id')\n",
    "\n",
    "csv = pd.io.parsers.read_csv(StringIO(r.content))\n",
    "\n",
    "idx = pd.MultiIndex.from_tuples(zip(csv['Species'].str.lower(),csv['Tmin'],csv['Tmax']),\n",
    "                         names=['Species','Tmin','Tmax'])\n",
    "\n",
    "adb = pd.DataFrame(index = idx)\n",
    "for v in ['A','B','C']:\n",
    "    adb[v] = pd.Series(list(csv[v]),index = idx)\n",
    "\n",
    "adb"
   ]
  },
  {
   "cell_type": "markdown",
   "metadata": {},
   "source": [
    "## Calculating Saturation Pressure"
   ]
  },
  {
   "cell_type": "code",
   "execution_count": 75,
   "metadata": {
    "collapsed": true
   },
   "outputs": [],
   "source": [
    "import numpy as np\n",
    "\n",
    "def Psat(species,T):\n",
    "    if isinstance(T,np.ndarray):\n",
    "        return [Psat(species,t) for t in T]\n",
    "    for Tmin,Tmax in adb.ix[species.lower()].index:\n",
    "        if (T >= Tmin) & (T <= Tmax):\n",
    "            A = adb.ix[species.lower(),Tmin,Tmax]['A']\n",
    "            B = adb.ix[species.lower(),Tmin,Tmax]['B']\n",
    "            C = adb.ix[species.lower(),Tmin,Tmax]['C']\n",
    "            return 10.0**(A - B/(T + C) )\n",
    "    else:\n",
    "        return float('nan')"
   ]
  },
  {
   "cell_type": "markdown",
   "metadata": {},
   "source": [
    "#### Example\n",
    "_What is the saturation pressure of water at 100 deg. C?_"
   ]
  },
  {
   "cell_type": "code",
   "execution_count": 76,
   "metadata": {
    "collapsed": false
   },
   "outputs": [
    {
     "name": "stdout",
     "output_type": "stream",
     "text": [
      "Saturation pressure of water at 100.0 deg C = 759.983043308 mmHg\n"
     ]
    }
   ],
   "source": [
    "species = 'water'\n",
    "T = 100.0\n",
    "\n",
    "print 'Saturation pressure of', species, \n",
    "print 'at', T, 'deg C =', \n",
    "print Psat(species,T), 'mmHg'"
   ]
  },
  {
   "cell_type": "markdown",
   "metadata": {},
   "source": [
    "#### Example\n",
    "_What is the highest altitude a human can travel before blood boils at normal body temperature (37 deg. C)?_\n",
    "\n",
    "This is known as the [Armstrong Limit](https://en.wikipedia.org/wiki/Armstrong_limit). The saturation pressure of water at 37 deg. C is computed as follows."
   ]
  },
  {
   "cell_type": "code",
   "execution_count": 77,
   "metadata": {
    "collapsed": false
   },
   "outputs": [
    {
     "name": "stdout",
     "output_type": "stream",
     "text": [
      "Saturation pressure of water at 37.0 deg C = 47.0733384885 mmHg\n"
     ]
    }
   ],
   "source": [
    "species = 'water'\n",
    "T = 37.0\n",
    "print 'Saturation pressure of', species, \n",
    "print 'at', T, 'deg C =', \n",
    "print Psat(species,T), 'mmHg'"
   ]
  },
  {
   "cell_type": "markdown",
   "metadata": {},
   "source": [
    "Consulting standard tables for air pressure as a function of altitude, we see a pressure of 47 mmHg corresponds to an altitude of about 62,000 ft above sea level."
   ]
  },
  {
   "cell_type": "markdown",
   "metadata": {},
   "source": [
    "## Plotting Saturation Pressure"
   ]
  },
  {
   "cell_type": "code",
   "execution_count": 78,
   "metadata": {
    "collapsed": false
   },
   "outputs": [
    {
     "data": {
      "image/png": "[encoded data removed]",
      "text/plain": [
       "<matplotlib.figure.Figure at 0x10c6ab850>"
      ]
     },
     "metadata": {},
     "output_type": "display_data"
    }
   ],
   "source": [
    "import matplotlib.pyplot as plt\n",
    "%matplotlib inline\n",
    "\n",
    "def PsatPlot(species):\n",
    "    for Tmin,Tmax in adb.ix[species].index:\n",
    "        T = np.linspace(Tmin,Tmax)\n",
    "        plt.plot(T,Psat(species,T),'b')\n",
    "    plt.xlabel('Temperature [deg C]')\n",
    "    plt.ylabel('Pressure [mmHg]')\n",
    "    plt.title('Saturation Pressure of ' + species)\n",
    "    plt.grid();\n",
    "    \n",
    "PsatPlot('water')"
   ]
  },
  {
   "cell_type": "markdown",
   "metadata": {},
   "source": [
    "### Interactive Widget for Plotting Saturation Pressure"
   ]
  },
  {
   "cell_type": "code",
   "execution_count": 79,
   "metadata": {
    "collapsed": false
   },
   "outputs": [
    {
     "data": {
      "image/png": "[encoded data removed]",
      "text/plain": [
       "<matplotlib.figure.Figure at 0x10bceaf90>"
      ]
     },
     "metadata": {},
     "output_type": "display_data"
    }
   ],
   "source": [
    "import ipywidgets as widgets\n",
    "from IPython.display import display\n",
    "\n",
    "widgets.interact(PsatPlot, species=list(adb.index.levels[0]));"
   ]
  },
  {
   "cell_type": "markdown",
   "metadata": {},
   "source": [
    "## Calculating Saturation Temperature"
   ]
  },
  {
   "cell_type": "code",
   "execution_count": 80,
   "metadata": {
    "collapsed": false
   },
   "outputs": [],
   "source": [
    "from scipy.optimize import brentq\n",
    "\n",
    "def Tsat(species,P):\n",
    "    if isinstance(P,np.ndarray):\n",
    "        return [Tsat(species,p) for p in P]\n",
    "    Ta = 1000.0\n",
    "    Tb = -273.15\n",
    "    for Tmin,Tmax in adb.ix[species.lower()].index:\n",
    "        Ta = min(Ta,Tmin)\n",
    "        Tb = max(Tb,Tmax)\n",
    "    f = \n",
    "    try:\n",
    "        return brentq(lambda T: Psat(species,T) - P,Ta,Tb)\n",
    "    except:\n",
    "        return float('nan')"
   ]
  },
  {
   "cell_type": "markdown",
   "metadata": {},
   "source": [
    "#### Create a Table of Normal Boiling Points\n",
    "\n",
    "The normal boiling point of a liquid is the temperature at which the vapor pressure is equal to one atmosphere."
   ]
  },
  {
   "cell_type": "code",
   "execution_count": 81,
   "metadata": {
    "collapsed": false
   },
   "outputs": [
    {
     "name": "stdout",
     "output_type": "stream",
     "text": [
      "Normal Boiling Points in Deg C.\n",
      "acetaldehyde      20.4\n",
      "acetic acid      117.9\n",
      "acetone           56.2\n",
      "benzene           80.1\n",
      "ethanol           78.3\n",
      "methanol          64.7\n",
      "toluene          111.6\n",
      "water            100.0\n"
     ]
    }
   ],
   "source": [
    "P = 760.0\n",
    "species = list(adb.index.levels[0])\n",
    "\n",
    "print \"Normal Boiling Points in Deg C.\"\n",
    "for s in species:\n",
    "    print '{0:15s}'.format(s),\n",
    "    print '{0:6.1f}'.format(Tsat(s,P))"
   ]
  },
  {
   "cell_type": "markdown",
   "metadata": {},
   "source": [
    "## Specific Humidity\n",
    "\n",
    "For a given mass of moist air $m_{air}$, specific humidity is the ratio of the mass of water vapor $m_w$ to the mass of dry air $m_{dry\\ air}$. \n",
    "\n",
    "$$SH = \\frac{m_w}{m_{dry\\ air}}$$\n",
    "\n",
    "From Dalton's law, the mole fraction of a species in an ideal gas is proportional to it's partial pressure. $M_{w} = 18.01$ is the molar mass of water, and $M_{air} = 28.97$ is the molar mass of air. This gives\n",
    "\n",
    "$$SH = \\frac{M_w P_w}{M_{air} (P_T - P_w)}$$\n",
    "\n",
    "where $P_w$ is the partial pressure of water in the moist air, and $P_T$ is total moist air pressure. The maximum specific humidity occurs when $P_w = P^{sat}_w(T)$ which gives us a simple formula\n",
    "\n",
    "$$SH_{max} = \\frac{M_w}{M_{air}} \\frac{P^{sat}_w(T)}{(P_T - P^{sat}_w(T))}$$"
   ]
  },
  {
   "cell_type": "code",
   "execution_count": 89,
   "metadata": {
    "collapsed": false
   },
   "outputs": [
    {
     "data": {
      "image/png": "[encoded data removed]",
      "text/plain": [
       "<matplotlib.figure.Figure at 0x1061d4750>"
      ]
     },
     "metadata": {},
     "output_type": "display_data"
    }
   ],
   "source": [
    "T = np.linspace(0.0,30.0)\n",
    "Mw = 18.01\n",
    "Ma = 28.97\n",
    "P = 760.0\n",
    "\n",
    "def SH(T):\n",
    "    return Mw*Psat('water',T)/(Ma*(P-Psat('water',T)))\n",
    "\n",
    "plt.plot(T, map(SH,T))\n",
    "plt.title('Maximum Humidity Ratio kg_w/kg_air')\n",
    "plt.xlabel('Temperature [deg C]')\n",
    "plt.grid()"
   ]
  },
  {
   "cell_type": "code",
   "execution_count": null,
   "metadata": {
    "collapsed": true
   },
   "outputs": [],
   "source": []
  }
 ],
 "metadata": {
  "kernelspec": {
   "display_name": "Python 2",
   "language": "python",
   "name": "python2"
  },
  "language_info": {
   "codemirror_mode": {
    "name": "ipython",
    "version": 2
   },
   "file_extension": ".py",
   "mimetype": "text/x-python",
   "name": "python",
   "nbconvert_exporter": "python",
   "pygments_lexer": "ipython2",
   "version": "2.7.10"
  }
 },
 "nbformat": 4,
 "nbformat_minor": 0
}
