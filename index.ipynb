{
 "cells": [
  {
   "cell_type": "markdown",
   "metadata": {},
   "source": [
    "###### The latest version of this IPython notebook is available at [http://github.com/jckantor](http://github.com/jckantor)  for noncommercial use under terms of the [Creative Commons Attribution Noncommericial ShareAlike License](http://creativecommons.org/licenses/by-nc-sa/4.0/).\n",
    "\n",
    "Jeffrey C. Kantor (Kantor.1@nd.edu)\n",
    "\n",
    "# Antoine Database\n",
    "\n",
    "The purpose of this notebook is to demonstrate the use Antoine's equation for routine chemical calcualtions. The notebook uses Google Sheets as a data repository. You can run this notebook directly by (1) clicking on \n",
    "\n",
    "[![Binder](http://mybinder.org/badge.svg)](http://mybinder.org/repo/jckantor/Antoine-Database)\n",
    "\n",
    "or (2) by downloading and running on your own Jupyter/Python installation, or (3) by forking the [github repository](https://github.com/jckantor/Antoine-Database)\n",
    "\n",
    "## Introduction to Antoine's Equation"
   ]
  },
  {
   "cell_type": "code",
   "execution_count": 229,
   "metadata": {
    "collapsed": false
   },
   "outputs": [
    {
     "data": {
      "text/html": [
       "\n",
       "        <iframe\n",
       "            width=\"400\"\n",
       "            height=\"300\"\n",
       "            src=\"https://www.youtube.com/embed/Adr9_2LnQdw\"\n",
       "            frameborder=\"0\"\n",
       "            allowfullscreen\n",
       "        ></iframe>\n",
       "        "
      ],
      "text/plain": [
       "<IPython.lib.display.YouTubeVideo at 0x10b9ee810>"
      ]
     },
     "execution_count": 229,
     "metadata": {},
     "output_type": "execute_result"
    }
   ],
   "source": [
    "from IPython.display import YouTubeVideo\n",
    "YouTubeVideo('Adr9_2LnQdw') "
   ]
  },
  {
   "cell_type": "markdown",
   "metadata": {},
   "source": [
    "### Read Data Set\n",
    "\n",
    "A data set of coefficients for Antoine's equation approximation for a selected set of compounds has been prepared as a [Google Sheet]()."
   ]
  },
  {
   "cell_type": "code",
   "execution_count": 228,
   "metadata": {
    "collapsed": false
   },
   "outputs": [
    {
     "data": {
      "text/html": [
       "<div>\n",
       "<table border=\"1\" class=\"dataframe\">\n",
       "  <thead>\n",
       "    <tr style=\"text-align: right;\">\n",
       "      <th></th>\n",
       "      <th></th>\n",
       "      <th></th>\n",
       "      <th>A</th>\n",
       "      <th>B</th>\n",
       "      <th>C</th>\n",
       "    </tr>\n",
       "    <tr>\n",
       "      <th>Species</th>\n",
       "      <th>Tmin</th>\n",
       "      <th>Tmax</th>\n",
       "      <th></th>\n",
       "      <th></th>\n",
       "      <th></th>\n",
       "    </tr>\n",
       "  </thead>\n",
       "  <tbody>\n",
       "    <tr>\n",
       "      <th>Acetaldehyde</th>\n",
       "      <th>-45.0</th>\n",
       "      <th>70</th>\n",
       "      <td>8.00550</td>\n",
       "      <td>1600.000</td>\n",
       "      <td>291.800</td>\n",
       "    </tr>\n",
       "    <tr>\n",
       "      <th>Acetic Acid</th>\n",
       "      <th>16.7</th>\n",
       "      <th>320</th>\n",
       "      <td>7.38782</td>\n",
       "      <td>1533.313</td>\n",
       "      <td>222.309</td>\n",
       "    </tr>\n",
       "    <tr>\n",
       "      <th>Benzene</th>\n",
       "      <th>8.0</th>\n",
       "      <th>103</th>\n",
       "      <td>6.90565</td>\n",
       "      <td>1211.033</td>\n",
       "      <td>220.790</td>\n",
       "    </tr>\n",
       "    <tr>\n",
       "      <th>Toluene</th>\n",
       "      <th>6.0</th>\n",
       "      <th>137</th>\n",
       "      <td>6.95464</td>\n",
       "      <td>1344.800</td>\n",
       "      <td>218.480</td>\n",
       "    </tr>\n",
       "    <tr>\n",
       "      <th rowspan=\"2\" valign=\"top\">Water</th>\n",
       "      <th>0.0</th>\n",
       "      <th>60</th>\n",
       "      <td>8.10765</td>\n",
       "      <td>1750.286</td>\n",
       "      <td>235.000</td>\n",
       "    </tr>\n",
       "    <tr>\n",
       "      <th>60.0</th>\n",
       "      <th>150</th>\n",
       "      <td>7.96681</td>\n",
       "      <td>1668.210</td>\n",
       "      <td>228.000</td>\n",
       "    </tr>\n",
       "  </tbody>\n",
       "</table>\n",
       "</div>"
      ],
      "text/plain": [
       "                               A         B        C\n",
       "Species      Tmin  Tmax                            \n",
       "Acetaldehyde -45.0 70    8.00550  1600.000  291.800\n",
       "Acetic Acid   16.7 320   7.38782  1533.313  222.309\n",
       "Benzene       8.0  103   6.90565  1211.033  220.790\n",
       "Toluene       6.0  137   6.95464  1344.800  218.480\n",
       "Water         0.0  60    8.10765  1750.286  235.000\n",
       "              60.0 150   7.96681  1668.210  228.000"
      ]
     },
     "execution_count": 228,
     "metadata": {},
     "output_type": "execute_result"
    }
   ],
   "source": [
    "import requests\n",
    "from StringIO import StringIO\n",
    "import pandas as pd\n",
    "\n",
    "r = requests.get('https://docs.google.com/spreadsheets/d/1lqIWdnmjiZX2LwHZ_5TdPXDOEn8hp-ZkdONlbjA-P1k/export?format=csv&id')\n",
    "csv = pd.io.parsers.read_csv(StringIO(r.content))\n",
    "\n",
    "idx = pd.MultiIndex.from_tuples(zip(csv['Species'],csv['Tmin'],csv['Tmax']),\n",
    "                         names=['Species','Tmin','Tmax'])\n",
    "\n",
    "adb = pd.DataFrame(index = idx)\n",
    "adb['A'] = pd.Series(list(csv['A']),index = idx)\n",
    "adb['B'] = pd.Series(list(csv['B']),index = idx)\n",
    "adb['C'] = pd.Series(list(csv['C']),index = idx)\n",
    "\n",
    "adb"
   ]
  },
  {
   "cell_type": "markdown",
   "metadata": {},
   "source": [
    "### Saturation Pressure"
   ]
  },
  {
   "cell_type": "code",
   "execution_count": 227,
   "metadata": {
    "collapsed": false
   },
   "outputs": [
    {
     "data": {
      "image/png": "[encoded data removed]",
      "text/plain": [
       "<matplotlib.figure.Figure at 0x10c604fd0>"
      ]
     },
     "metadata": {},
     "output_type": "display_data"
    }
   ],
   "source": [
    "import matplotlib.pyplot as plt\n",
    "import numpy as np\n",
    "%matplotlib inline\n",
    "\n",
    "def PsatPlot(species):\n",
    "    for Tmin,Tmax in adb.ix[species].index:\n",
    "        A = adb.ix[species,Tmin,Tmax]['A']\n",
    "        B = adb.ix[species,Tmin,Tmax]['B']\n",
    "        C = adb.ix[species,Tmin,Tmax]['C']\n",
    "        f = lambda T: 10.0**(A - B/(T + C) )\n",
    "        T = np.linspace(Tmin,Tmax)\n",
    "        plt.plot(T,f(T),'b')\n",
    "    plt.xlabel('Temperature [deg C]')\n",
    "    plt.ylabel('Pressure [mmHg]')\n",
    "    plt.title('Saturation Pressure of ' + species)\n",
    "    plt.grid();\n",
    "\n",
    "import ipywidgets as widgets\n",
    "from IPython.display import display\n",
    "\n",
    "widgets.interact(PsatPlot, species=list(adb.index.levels[0]));"
   ]
  },
  {
   "cell_type": "code",
   "execution_count": null,
   "metadata": {
    "collapsed": true
   },
   "outputs": [],
   "source": []
  }
 ],
 "metadata": {
  "kernelspec": {
   "display_name": "Python 2",
   "language": "python",
   "name": "python2"
  },
  "language_info": {
   "codemirror_mode": {
    "name": "ipython",
    "version": 2
   },
   "file_extension": ".py",
   "mimetype": "text/x-python",
   "name": "python",
   "nbconvert_exporter": "python",
   "pygments_lexer": "ipython2",
   "version": "2.7.10"
  }
 },
 "nbformat": 4,
 "nbformat_minor": 0
}
