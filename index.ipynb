{
 "cells": [
  {
   "cell_type": "markdown",
   "metadata": {},
   "source": [
    "###### The latest version of this IPython notebook is available at [http://github.com/jckantor](http://github.com/jckantor)  for noncommercial use under terms of the [Creative Commons Attribution Noncommericial ShareAlike License](http://creativecommons.org/licenses/by-nc-sa/4.0/).\n",
    "\n",
    "Jeffrey C. Kantor (Kantor.1@nd.edu)\n",
    "\n",
    "# Antoine Database\n",
    "\n",
    "The purpose of this notebook is to demonstrate the use Antoine's equation for routine chemical calcualtions. The notebook uses Google Sheets as a data repository of coefficients for Antoine parameters for a selected set of chemical species.\n",
    "\n",
    "#### Table of Contents\n",
    "\n",
    "* [Introduction](#Introduction-to-Antoine's-Equation)\n",
    "* [Plotting Saturation Pressure](#Plotting-Saturation-Pressure)\n",
    "\n",
    "#### How to Run this Notebook\n",
    "\n",
    "You can open run this notebook directly by clicking on \n",
    "\n",
    "[![Binder](http://mybinder.org/badge.svg)](http://mybinder.org/repo/jckantor/Antoine-Database)\n",
    "\n",
    "then selecting `Run All` under the Jupyter `Cell` menu. Alternatively, if you have access to a Jupyter development environment (such as [Anaconda](https://www.continuum.io/downloads)), you can download this notebook using `Download as ...` under the Jupyter `File` menu, or fork the entire project from the [github repository](https://github.com/jckantor/Antoine-Database)."
   ]
  },
  {
   "cell_type": "markdown",
   "metadata": {},
   "source": [
    "## Introduction to Antoine's Equation\n",
    "\n",
    "Antoine's equation is used to estimate the pressure of the vapor phase of a pure component in equilibrium its pure liquid phase as a function of temperature. The form of the equation is\n",
    "\n",
    "$$\\log_{10} P^{sat}(T) = A - \\frac{B}{T+C}$$\n",
    "\n",
    "where $A$, $B$, and $C$ are constants specific to the species of interest. A data set of coefficients been prepared as a [Google Sheet](https://docs.google.com/spreadsheets/d/1lqIWdnmjiZX2LwHZ_5TdPXDOEn8hp-ZkdONlbjA-P1k/edit?usp=sharing) and read in the notebook by running the following cell."
   ]
  },
  {
   "cell_type": "code",
   "execution_count": 11,
   "metadata": {
    "collapsed": false
   },
   "outputs": [
    {
     "data": {
      "text/html": [
       "<div>\n",
       "<table border=\"1\" class=\"dataframe\">\n",
       "  <thead>\n",
       "    <tr style=\"text-align: right;\">\n",
       "      <th></th>\n",
       "      <th></th>\n",
       "      <th></th>\n",
       "      <th>A</th>\n",
       "      <th>B</th>\n",
       "      <th>C</th>\n",
       "    </tr>\n",
       "    <tr>\n",
       "      <th>Species</th>\n",
       "      <th>Tmin</th>\n",
       "      <th>Tmax</th>\n",
       "      <th></th>\n",
       "      <th></th>\n",
       "      <th></th>\n",
       "    </tr>\n",
       "  </thead>\n",
       "  <tbody>\n",
       "    <tr>\n",
       "      <th>acetaldehyde</th>\n",
       "      <th>-45.0</th>\n",
       "      <th>70</th>\n",
       "      <td>8.00550</td>\n",
       "      <td>1600.000</td>\n",
       "      <td>291.800</td>\n",
       "    </tr>\n",
       "    <tr>\n",
       "      <th>acetic acid</th>\n",
       "      <th>16.7</th>\n",
       "      <th>320</th>\n",
       "      <td>7.38782</td>\n",
       "      <td>1533.313</td>\n",
       "      <td>222.309</td>\n",
       "    </tr>\n",
       "    <tr>\n",
       "      <th>benzene</th>\n",
       "      <th>8.0</th>\n",
       "      <th>103</th>\n",
       "      <td>6.90565</td>\n",
       "      <td>1211.033</td>\n",
       "      <td>220.790</td>\n",
       "    </tr>\n",
       "    <tr>\n",
       "      <th>toluene</th>\n",
       "      <th>6.0</th>\n",
       "      <th>137</th>\n",
       "      <td>6.95464</td>\n",
       "      <td>1344.800</td>\n",
       "      <td>218.480</td>\n",
       "    </tr>\n",
       "    <tr>\n",
       "      <th rowspan=\"2\" valign=\"top\">water</th>\n",
       "      <th>0.0</th>\n",
       "      <th>60</th>\n",
       "      <td>8.10765</td>\n",
       "      <td>1750.286</td>\n",
       "      <td>235.000</td>\n",
       "    </tr>\n",
       "    <tr>\n",
       "      <th>60.0</th>\n",
       "      <th>150</th>\n",
       "      <td>7.96681</td>\n",
       "      <td>1668.210</td>\n",
       "      <td>228.000</td>\n",
       "    </tr>\n",
       "  </tbody>\n",
       "</table>\n",
       "</div>"
      ],
      "text/plain": [
       "                               A         B        C\n",
       "Species      Tmin  Tmax                            \n",
       "acetaldehyde -45.0 70    8.00550  1600.000  291.800\n",
       "acetic acid   16.7 320   7.38782  1533.313  222.309\n",
       "benzene       8.0  103   6.90565  1211.033  220.790\n",
       "toluene       6.0  137   6.95464  1344.800  218.480\n",
       "water         0.0  60    8.10765  1750.286  235.000\n",
       "              60.0 150   7.96681  1668.210  228.000"
      ]
     },
     "execution_count": 11,
     "metadata": {},
     "output_type": "execute_result"
    }
   ],
   "source": [
    "import requests\n",
    "from StringIO import StringIO\n",
    "import pandas as pd\n",
    "\n",
    "r = requests.get('https://docs.google.com/spreadsheets/d/1lqIWdnmjiZX2LwHZ_5TdPXDOEn8hp-ZkdONlbjA-P1k/export?format=csv&id')\n",
    "csv = pd.io.parsers.read_csv(StringIO(r.content))\n",
    "\n",
    "idx = pd.MultiIndex.from_tuples(zip(csv['Species'].str.lower(),csv['Tmin'],csv['Tmax']),\n",
    "                         names=['Species','Tmin','Tmax'])\n",
    "\n",
    "adb = pd.DataFrame(index = idx)\n",
    "adb['A'] = pd.Series(list(csv['A']),index = idx)\n",
    "adb['B'] = pd.Series(list(csv['B']),index = idx)\n",
    "adb['C'] = pd.Series(list(csv['C']),index = idx)\n",
    "\n",
    "adb"
   ]
  },
  {
   "cell_type": "markdown",
   "metadata": {},
   "source": [
    "## Plotting Saturation Pressure"
   ]
  },
  {
   "cell_type": "code",
   "execution_count": 12,
   "metadata": {
    "collapsed": false
   },
   "outputs": [
    {
     "data": {
      "image/png": "[encoded data removed]",
      "text/plain": [
       "<matplotlib.figure.Figure at 0x10be01a50>"
      ]
     },
     "metadata": {},
     "output_type": "display_data"
    }
   ],
   "source": [
    "import matplotlib.pyplot as plt\n",
    "import numpy as np\n",
    "%matplotlib inline\n",
    "\n",
    "def Psat(species,T):\n",
    "    if isinstance(T,np.ndarray):\n",
    "        return np.ndarray([Psat(species,t) for t in T])\n",
    "    for Tmin,Tmax in adb.ix[species.lower()].index:\n",
    "        A = adb.ix[species,Tmin,Tmax]['A']\n",
    "        B = adb.ix[species,Tmin,Tmax]['B']\n",
    "        C = adb.ix[species,Tmin,Tmax]['C']\n",
    "        f = lambda T: 10.0**(A - B/(T + C) )\n",
    "        T = np.linspace(Tmin,Tmax)\n",
    "        plt.plot(T,f(T),'b')\n",
    "\n",
    "def PsatPlot(species):\n",
    "    for Tmin,Tmax in adb.ix[species].index:\n",
    "        A = adb.ix[species,Tmin,Tmax]['A']\n",
    "        B = adb.ix[species,Tmin,Tmax]['B']\n",
    "        C = adb.ix[species,Tmin,Tmax]['C']\n",
    "        f = lambda T: 10.0**(A - B/(T + C) )\n",
    "        T = np.linspace(Tmin,Tmax)\n",
    "        plt.plot(T,f(T),'b')\n",
    "    plt.xlabel('Temperature [deg C]')\n",
    "    plt.ylabel('Pressure [mmHg]')\n",
    "    plt.title('Saturation Pressure of ' + species)\n",
    "    plt.grid();\n",
    "\n",
    "import ipywidgets as widgets\n",
    "from IPython.display import display\n",
    "\n",
    "widgets.interact(PsatPlot, species=list(adb.index.levels[0]));"
   ]
  },
  {
   "cell_type": "markdown",
   "metadata": {},
   "source": [
    "## Raoult's Law"
   ]
  },
  {
   "cell_type": "code",
   "execution_count": 13,
   "metadata": {
    "collapsed": false
   },
   "outputs": [
    {
     "data": {
      "text/html": [
       "\n",
       "        <iframe\n",
       "            width=\"400\"\n",
       "            height=\"300\"\n",
       "            src=\"https://www.youtube.com/embed/-XcTEknC9Aw\"\n",
       "            frameborder=\"0\"\n",
       "            allowfullscreen\n",
       "        ></iframe>\n",
       "        "
      ],
      "text/plain": [
       "<IPython.lib.display.YouTubeVideo at 0x10be15190>"
      ]
     },
     "execution_count": 13,
     "metadata": {},
     "output_type": "execute_result"
    }
   ],
   "source": [
    "from IPython.display import YouTubeVideo\n",
    "YouTubeVideo('-XcTEknC9Aw') "
   ]
  },
  {
   "cell_type": "code",
   "execution_count": null,
   "metadata": {
    "collapsed": true
   },
   "outputs": [],
   "source": []
  }
 ],
 "metadata": {
  "kernelspec": {
   "display_name": "Python 2",
   "language": "python",
   "name": "python2"
  },
  "language_info": {
   "codemirror_mode": {
    "name": "ipython",
    "version": 2
   },
   "file_extension": ".py",
   "mimetype": "text/x-python",
   "name": "python",
   "nbconvert_exporter": "python",
   "pygments_lexer": "ipython2",
   "version": "2.7.10"
  }
 },
 "nbformat": 4,
 "nbformat_minor": 0
}
